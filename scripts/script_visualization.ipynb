{
  "nbformat": 4,
  "nbformat_minor": 0,
  "metadata": {
    "colab": {
      "provenance": []
    },
    "kernelspec": {
      "name": "python3",
      "display_name": "Python 3"
    },
    "language_info": {
      "name": "python"
    }
  },
  "cells": [
    {
      "cell_type": "code",
      "source": [
        "pip install toytree"
      ],
      "metadata": {
        "id": "fwxbb81BP5Oa"
      },
      "execution_count": null,
      "outputs": []
    },
    {
      "cell_type": "code",
      "source": [
        "import toytree       # a tree plotting library\n",
        "import toyplot       # a general plotting library\n",
        "import numpy as np   # numerical library"
      ],
      "metadata": {
        "id": "Ptm9XV7_FBFS"
      },
      "execution_count": null,
      "outputs": []
    },
    {
      "cell_type": "code",
      "source": [
        "our2 = '((((P. furiosus:0.62,A. pernix:0.76):0.3,A. fulgidus:0.45,P. horikoshii:0.45,P. abyssi:0.42,M. jannashii:0.46,M. thermoautotrophicum:0.46,S. solfataricus:0.88,M. barkeri:0.52,Halobacterium sp.:0.6,H. marismortui:0.48):0.02,P. aerophilum:0.49)0.22,F. acidarmanus:0.51,T. acidophilum:0.45);'\n",
        "mjr2 = '(Halobacterium sp.,H. marismortui,(M. barkeri,(P. furiosus,P. horikoshii,P. abyssi,M. jannashii,M. thermoautotrophicum,S. solfataricus,A. pernix,F. acidarmanus,T. acidophilum,(A. fulgidus,P. aerophilum))));'\n",
        "gene1 = '(((((((H. marismortui, Halobacterium sp.),M. barkeri),A. fulgidus),(F. acidarmanus, T. acidophilum)),(M. thermoautotrophicum, M. jannashii)),(P. furiosus,(P. horikoshii, P. abyssi))),(P. aerophilum,(A. pernix,S. solfataricus)));'\n",
        "\n",
        "gene = toytree.tree(gene1, tree_format=1)\n",
        "mjr = toytree.tree(mjr2, tree_format=1)\n",
        "prims = toytree.tree(our2, tree_format=1)"
      ],
      "metadata": {
        "id": "6Rcf_bsw7WbL"
      },
      "execution_count": null,
      "outputs": []
    },
    {
      "cell_type": "code",
      "source": [
        "gene.draw(ts='o');"
      ],
      "metadata": {
        "id": "79o7n_cn0gBX"
      },
      "execution_count": null,
      "outputs": []
    },
    {
      "cell_type": "code",
      "source": [
        "mjr.draw(ts='o');"
      ],
      "metadata": {
        "id": "FzKoROCX_YKs"
      },
      "execution_count": null,
      "outputs": []
    },
    {
      "cell_type": "code",
      "source": [
        "prims.draw(ts='o');"
      ],
      "metadata": {
        "id": "TYJLaQ_F_lIL"
      },
      "execution_count": null,
      "outputs": []
    },
    {
      "cell_type": "code",
      "source": [
        "canvas, axes, mark = prims.draw(height=300, width = 400,tree_style='o',node_sizes=10);"
      ],
      "metadata": {
        "id": "sTcslxtBG5ph"
      },
      "execution_count": null,
      "outputs": []
    },
    {
      "cell_type": "code",
      "source": [
        "# for creating scientific figures SVG is often the most useful format\n",
        "import toyplot.svg\n",
        "import toyplot.pdf\n",
        "toyplot.svg.render(canvas, \"prims.svg\")\n",
        "#toyplot.pdf.render(canvas, \"tree-plot.pdf\")"
      ],
      "metadata": {
        "id": "B404XCG4GjcQ"
      },
      "execution_count": null,
      "outputs": []
    }
  ]
}