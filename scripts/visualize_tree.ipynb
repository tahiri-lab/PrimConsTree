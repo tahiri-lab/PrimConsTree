{
  "nbformat": 4,
  "nbformat_minor": 0,
  "metadata": {
    "colab": {
      "provenance": []
    },
    "kernelspec": {
      "name": "python3",
      "display_name": "Python 3"
    },
    "language_info": {
      "name": "python"
    }
  },
  "cells": [
    {
      "cell_type": "code",
      "source": [
        "pip install toytree"
      ],
      "metadata": {
        "id": "fwxbb81BP5Oa"
      },
      "execution_count": null,
      "outputs": []
    },
    {
      "cell_type": "code",
      "source": [
        "import toytree       # a tree plotting library\n",
        "import numpy as np   # numerical library"
      ],
      "metadata": {
        "id": "Ptm9XV7_FBFS"
      },
      "execution_count": 10,
      "outputs": []
    },
    {
      "cell_type": "code",
      "source": [
        "prims = '((((P. furiosus:0.62,A. pernix:0.76):0.3,A. fulgidus:0.45,P. horikoshii:0.45,P. abyssi:0.42,M. jannashii:0.46,M. thermoautotrophicum:0.46,S. solfataricus:0.88,M. barkeri:0.52,Halobacterium sp.:0.6,H. marismortui:0.48):0.02,P. aerophilum:0.49)0.22,F. acidarmanus:0.51,T. acidophilum:0.45);'\n",
        "majority = '(Halobacterium sp.,H. marismortui,(M. barkeri,(P. furiosus,P. horikoshii,P. abyssi,M. jannashii,M. thermoautotrophicum,S. solfataricus,A. pernix,F. acidarmanus,T. acidophilum,(A. fulgidus,P. aerophilum))));'\n",
        "gene = '(((((((H. marismortui, Halobacterium sp.),M. barkeri),A. fulgidus),(F. acidarmanus, T. acidophilum)),(M. thermoautotrophicum, M. jannashii)),(P. furiosus,(P. horikoshii, P. abyssi))),(P. aerophilum,(A. pernix,S. solfataricus)));'\n",
        "\n",
        "gene = toytree.tree(gene, tree_format=1)\n",
        "majority = toytree.tree(majority, tree_format=1)\n",
        "prims = toytree.tree(prims, tree_format=1)"
      ],
      "metadata": {
        "id": "6Rcf_bsw7WbL"
      },
      "execution_count": 6,
      "outputs": []
    },
    {
      "cell_type": "code",
      "source": [
        "gene_canvas, axes, mark = gene.draw(height=300, width = 400,tree_style='o',node_sizes=10);\n",
        "majority_canvas, axes, mark = majority.draw(height=300, width = 400,tree_style='o',node_sizes=10);\n",
        "prims_canvas, axes, mark = prims.draw(height=300, width = 400,tree_style='o',node_sizes=10);"
      ],
      "metadata": {
        "id": "sTcslxtBG5ph"
      },
      "execution_count": null,
      "outputs": []
    },
    {
      "cell_type": "code",
      "source": [
        "import toyplot.pdf\n",
        "toyplot.pdf.render(gene_canvas, \"gene_canvas.pdf\")\n",
        "toyplot.pdf.render(majority_canvas, \"majority_canvas.pdf\")\n",
        "toyplot.pdf.render(prims_canvas, \"prims_canvas.pdf\")"
      ],
      "metadata": {
        "id": "B404XCG4GjcQ"
      },
      "execution_count": 9,
      "outputs": []
    }
  ]
}