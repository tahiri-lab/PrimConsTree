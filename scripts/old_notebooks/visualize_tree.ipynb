{
  "nbformat": 4,
  "nbformat_minor": 0,
  "metadata": {
    "colab": {
      "provenance": []
    },
    "kernelspec": {
      "name": "python3",
      "display_name": "Python 3"
    },
    "language_info": {
      "name": "python"
    }
  },
  "cells": [
    {
      "cell_type": "code",
      "source": [
        "pip install toytree"
      ],
      "metadata": {
        "id": "fwxbb81BP5Oa"
      },
      "execution_count": null,
      "outputs": []
    },
    {
      "cell_type": "code",
      "source": [
        "import toytree       # a tree plotting library\n",
        "import numpy as np   # numerical library"
      ],
      "metadata": {
        "id": "Ptm9XV7_FBFS"
      },
      "execution_count": 8,
      "outputs": []
    },
    {
      "cell_type": "code",
      "source": [
        "prims = '((((P. furiosus:0.62,A. pernix:0.76):0.3,A. fulgidus:0.45,P. horikoshii:0.45,P. abyssi:0.42,M. jannashii:0.46,M. thermoautotrophicum:0.46,S. solfataricus:0.88,M. barkeri:0.52,Halobacterium sp.:0.6,H. marismortui:0.48):0.02,P. aerophilum:0.49)0.22,F. acidarmanus:0.51,T. acidophilum:0.45);'\n",
        "majority = '(Halobacterium sp.,H. marismortui,(M. barkeri,(P. furiosus,P. horikoshii,P. abyssi,M. jannashii,M. thermoautotrophicum,S. solfataricus,A. pernix,F. acidarmanus,T. acidophilum,(A. fulgidus,P. aerophilum))));'\n",
        "gene = '(((((((H. marismortui, Halobacterium sp.),M. barkeri),A. fulgidus),(F. acidarmanus, T. acidophilum)),(M. thermoautotrophicum, M. jannashii)),(P. furiosus,(P. horikoshii, P. abyssi))),(P. aerophilum,(A. pernix,S. solfataricus)));'\n",
        "\n",
        "gene = toytree.tree(gene, tree_format=1)\n",
        "majority = toytree.tree(majority, tree_format=1)\n",
        "prims = toytree.tree(prims, tree_format=1)"
      ],
      "metadata": {
        "id": "6Rcf_bsw7WbL"
      },
      "execution_count": 9,
      "outputs": []
    },
    {
      "cell_type": "code",
      "source": [
        "gene_canvas, axes, mark = gene.draw(height=300, width = 400,tree_style='o',node_sizes=10);"
      ],
      "metadata": {
        "id": "sTcslxtBG5ph",
        "colab": {
          "base_uri": "https://localhost:8080/",
          "height": 321
        },
        "outputId": "b0fb736a-e573-4de2-bed8-8f06a1bb8b1b"
      },
      "execution_count": 10,
      "outputs": [
        {
          "output_type": "display_data",
          "data": {
            "text/html": [
              "<div class=\"toyplot\" id=\"t801a7adf206441338fb0ed0f2b848964\" style=\"text-align:center\"><svg class=\"toyplot-canvas-Canvas\" xmlns:toyplot=\"http://www.sandia.gov/toyplot\" xmlns:xlink=\"http://www.w3.org/1999/xlink\" xmlns=\"http://www.w3.org/2000/svg\" width=\"400.0px\" height=\"300.0px\" viewBox=\"0 0 400.0 300.0\" preserveAspectRatio=\"xMidYMid meet\" style=\"background-color:transparent;border-color:#292724;border-style:none;border-width:1.0;fill:rgb(16.1%,15.3%,14.1%);fill-opacity:1.0;font-family:Helvetica;font-size:12px;opacity:1.0;stroke:rgb(16.1%,15.3%,14.1%);stroke-opacity:1.0;stroke-width:1.0\" id=\"t502158f469ac46349eb20b7c7339dd0c\"><g class=\"toyplot-coordinates-Cartesian\" id=\"tae67dd8db29f43b1904f1b163c72f634\"><clipPath id=\"t2bbefb2f1ea64196bffcb7e1417c7717\"><rect x=\"30.0\" y=\"30.0\" width=\"340.0\" height=\"240.0\"></rect></clipPath><g clip-path=\"url(#t2bbefb2f1ea64196bffcb7e1417c7717)\"><g class=\"toytree-mark-Toytree\" id=\"te63c904610f4407295ccb0aa6676f509\"><g class=\"toytree-Edges\" style=\"fill:none;stroke:rgb(14.9%,14.9%,14.9%);stroke-linecap:round;stroke-opacity:1;stroke-width:2\"><path d=\"M 56.3 106.8 L 83.5 71.4\" id=\"26,25\"></path><path d=\"M 56.3 106.8 L 83.5 142.1\" id=\"26,24\"></path><path d=\"M 83.5 71.4 L 110.7 81.7\" id=\"25,23\"></path><path d=\"M 83.5 142.1 L 110.7 112.4\" id=\"24,22\"></path><path d=\"M 83.5 142.1 L 110.7 171.8\" id=\"24,21\"></path><path d=\"M 110.7 112.4 L 137.8 122.7\" id=\"22,20\"></path><path d=\"M 110.7 171.8 L 137.8 150.0\" id=\"21,19\"></path><path d=\"M 110.7 171.8 L 137.8 193.6\" id=\"21,18\"></path><path d=\"M 137.8 193.6 L 165.0 177.3\" id=\"18,17\"></path><path d=\"M 137.8 193.6 L 165.0 209.8\" id=\"18,16\"></path><path d=\"M 165.0 209.8 L 192.1 221.7\" id=\"16,15\"></path><path d=\"M 192.1 221.7 L 219.3 232.0\" id=\"15,14\"></path><path d=\"M 83.5 71.4 L 110.7 61.2\" id=\"25,13\"></path><path d=\"M 110.7 81.7 L 137.8 74.9\" id=\"23,12\"></path><path d=\"M 110.7 81.7 L 137.8 88.5\" id=\"23,11\"></path><path d=\"M 110.7 112.4 L 137.8 102.2\" id=\"22,10\"></path><path d=\"M 137.8 122.7 L 165.0 115.8\" id=\"20,9\"></path><path d=\"M 137.8 122.7 L 165.0 129.5\" id=\"20,8\"></path><path d=\"M 137.8 150.0 L 165.0 143.2\" id=\"19,7\"></path><path d=\"M 137.8 150.0 L 165.0 156.8\" id=\"19,6\"></path><path d=\"M 165.0 177.3 L 192.1 170.5\" id=\"17,5\"></path><path d=\"M 165.0 177.3 L 192.1 184.2\" id=\"17,4\"></path><path d=\"M 165.0 209.8 L 192.1 197.8\" id=\"16,3\"></path><path d=\"M 192.1 221.7 L 219.3 211.5\" id=\"15,2\"></path><path d=\"M 219.3 232.0 L 246.5 225.1\" id=\"14,1\"></path><path d=\"M 219.3 232.0 L 246.5 238.8\" id=\"14,0\"></path></g><g class=\"toytree-AlignEdges\" style=\"stroke:rgb(66.3%,66.3%,66.3%);stroke-dasharray:2, 4;stroke-linecap:round;stroke-opacity:1.0;stroke-width:2\"><path d=\"M 246.5 238.8 L 246.5 238.8\"></path><path d=\"M 246.5 225.1 L 246.5 225.1\"></path><path d=\"M 246.5 211.5 L 219.3 211.5\"></path><path d=\"M 246.5 197.8 L 192.1 197.8\"></path><path d=\"M 246.5 184.2 L 192.1 184.2\"></path><path d=\"M 246.5 170.5 L 192.1 170.5\"></path><path d=\"M 246.5 156.8 L 165.0 156.8\"></path><path d=\"M 246.5 143.2 L 165.0 143.2\"></path><path d=\"M 246.5 129.5 L 165.0 129.5\"></path><path d=\"M 246.5 115.8 L 165.0 115.8\"></path><path d=\"M 246.5 102.2 L 137.8 102.2\"></path><path d=\"M 246.5 88.5 L 137.8 88.5\"></path><path d=\"M 246.5 74.9 L 137.8 74.9\"></path><path d=\"M 246.5 61.2 L 110.7 61.2\"></path></g><g class=\"toytree-Nodes\" style=\"fill:rgb(10.6%,62%,46.7%);fill-opacity:1.0;stroke:rgb(100%,100%,100%);stroke-opacity:1.0;stroke-width:1.5\"><g id=\"node-0\" transform=\"translate(246.460,238.810)\"><circle r=\"5.0\"></circle></g><g id=\"node-1\" transform=\"translate(246.460,225.147)\"><circle r=\"5.0\"></circle></g><g id=\"node-2\" transform=\"translate(219.299,211.484)\"><circle r=\"5.0\"></circle></g><g id=\"node-3\" transform=\"translate(192.139,197.821)\"><circle r=\"5.0\"></circle></g><g id=\"node-4\" transform=\"translate(192.139,184.158)\"><circle r=\"5.0\"></circle></g><g id=\"node-5\" transform=\"translate(192.139,170.495)\"><circle r=\"5.0\"></circle></g><g id=\"node-6\" transform=\"translate(164.979,156.832)\"><circle r=\"5.0\"></circle></g><g id=\"node-7\" transform=\"translate(164.979,143.168)\"><circle r=\"5.0\"></circle></g><g id=\"node-8\" transform=\"translate(164.979,129.505)\"><circle r=\"5.0\"></circle></g><g id=\"node-9\" transform=\"translate(164.979,115.842)\"><circle r=\"5.0\"></circle></g><g id=\"node-10\" transform=\"translate(137.818,102.179)\"><circle r=\"5.0\"></circle></g><g id=\"node-11\" transform=\"translate(137.818,88.516)\"><circle r=\"5.0\"></circle></g><g id=\"node-12\" transform=\"translate(137.818,74.853)\"><circle r=\"5.0\"></circle></g><g id=\"node-13\" transform=\"translate(110.658,61.190)\"><circle r=\"5.0\"></circle></g><g id=\"node-14\" transform=\"translate(219.299,231.978)\"><circle r=\"5.0\"></circle></g><g id=\"node-15\" transform=\"translate(192.139,221.731)\"><circle r=\"5.0\"></circle></g><g id=\"node-16\" transform=\"translate(164.979,209.776)\"><circle r=\"5.0\"></circle></g><g id=\"node-17\" transform=\"translate(164.979,177.326)\"><circle r=\"5.0\"></circle></g><g id=\"node-18\" transform=\"translate(137.818,193.551)\"><circle r=\"5.0\"></circle></g><g id=\"node-19\" transform=\"translate(137.818,150.000)\"><circle r=\"5.0\"></circle></g><g id=\"node-20\" transform=\"translate(137.818,122.674)\"><circle r=\"5.0\"></circle></g><g id=\"node-21\" transform=\"translate(110.658,171.776)\"><circle r=\"5.0\"></circle></g><g id=\"node-22\" transform=\"translate(110.658,112.427)\"><circle r=\"5.0\"></circle></g><g id=\"node-23\" transform=\"translate(110.658,81.685)\"><circle r=\"5.0\"></circle></g><g id=\"node-24\" transform=\"translate(83.498,142.101)\"><circle r=\"5.0\"></circle></g><g id=\"node-25\" transform=\"translate(83.498,71.437)\"><circle r=\"5.0\"></circle></g><g id=\"node-26\" transform=\"translate(56.337,106.769)\"><circle r=\"5.0\"></circle></g></g><g class=\"toytree-TipLabels\" style=\"fill:rgb(14.9%,14.9%,14.9%);fill-opacity:1.0;font-family:helvetica;font-size:11px;font-weight:normal;stroke:none;white-space:pre\"><g transform=\"translate(246.46,238.81)rotate(0)\"><text x=\"15.00\" y=\"2.81\" style=\"\">Halobacteriumsp.</text></g><g transform=\"translate(246.46,225.15)rotate(0)\"><text x=\"15.00\" y=\"2.81\" style=\"\">H.marismortui</text></g><g transform=\"translate(246.46,211.48)rotate(0)\"><text x=\"15.00\" y=\"2.81\" style=\"\">M.barkeri</text></g><g transform=\"translate(246.46,197.82)rotate(0)\"><text x=\"15.00\" y=\"2.81\" style=\"\">A.fulgidus</text></g><g transform=\"translate(246.46,184.16)rotate(0)\"><text x=\"15.00\" y=\"2.81\" style=\"\">T.acidophilum</text></g><g transform=\"translate(246.46,170.49)rotate(0)\"><text x=\"15.00\" y=\"2.81\" style=\"\">F.acidarmanus</text></g><g transform=\"translate(246.46,156.83)rotate(0)\"><text x=\"15.00\" y=\"2.81\" style=\"\">M.jannashii</text></g><g transform=\"translate(246.46,143.17)rotate(0)\"><text x=\"15.00\" y=\"2.81\" style=\"\">M.thermoautotrophicum</text></g><g transform=\"translate(246.46,129.51)rotate(0)\"><text x=\"15.00\" y=\"2.81\" style=\"\">P.abyssi</text></g><g transform=\"translate(246.46,115.84)rotate(0)\"><text x=\"15.00\" y=\"2.81\" style=\"\">P.horikoshii</text></g><g transform=\"translate(246.46,102.18)rotate(0)\"><text x=\"15.00\" y=\"2.81\" style=\"\">P.furiosus</text></g><g transform=\"translate(246.46,88.52)rotate(0)\"><text x=\"15.00\" y=\"2.81\" style=\"\">S.solfataricus</text></g><g transform=\"translate(246.46,74.85)rotate(0)\"><text x=\"15.00\" y=\"2.81\" style=\"\">A.pernix</text></g><g transform=\"translate(246.46,61.19)rotate(0)\"><text x=\"15.00\" y=\"2.81\" style=\"\">P.aerophilum</text></g></g></g></g></g></svg><div class=\"toyplot-behavior\"><script>(function()\n",
              "{\n",
              "var modules={};\n",
              "})();</script></div></div>"
            ]
          },
          "metadata": {}
        }
      ]
    },
    {
      "cell_type": "code",
      "source": [
        "majority_canvas, axes, mark = majority.draw(height=300, width = 400,tree_style='o',node_sizes=10);"
      ],
      "metadata": {
        "colab": {
          "base_uri": "https://localhost:8080/",
          "height": 321
        },
        "id": "sZ4b4c5KlCoR",
        "outputId": "cfd854a4-7579-4003-dbfe-39249abe92e4"
      },
      "execution_count": 11,
      "outputs": [
        {
          "output_type": "display_data",
          "data": {
            "text/html": [
              "<div class=\"toyplot\" id=\"t0167c44bfe254ed6bae106498e96e94b\" style=\"text-align:center\"><svg class=\"toyplot-canvas-Canvas\" xmlns:toyplot=\"http://www.sandia.gov/toyplot\" xmlns:xlink=\"http://www.w3.org/1999/xlink\" xmlns=\"http://www.w3.org/2000/svg\" width=\"400.0px\" height=\"300.0px\" viewBox=\"0 0 400.0 300.0\" preserveAspectRatio=\"xMidYMid meet\" style=\"background-color:transparent;border-color:#292724;border-style:none;border-width:1.0;fill:rgb(16.1%,15.3%,14.1%);fill-opacity:1.0;font-family:Helvetica;font-size:12px;opacity:1.0;stroke:rgb(16.1%,15.3%,14.1%);stroke-opacity:1.0;stroke-width:1.0\" id=\"t9c25134a54c34a7d8acaba6a3721b506\"><g class=\"toyplot-coordinates-Cartesian\" id=\"tff538a1fe4134b808d6bcee0b7322e77\"><clipPath id=\"tfa3e6f2900dd478f8ef0abb6464ae3bd\"><rect x=\"30.0\" y=\"30.0\" width=\"340.0\" height=\"240.0\"></rect></clipPath><g clip-path=\"url(#tfa3e6f2900dd478f8ef0abb6464ae3bd)\"><g class=\"toytree-mark-Toytree\" id=\"tf6a0c176c2be4a3d9986c7154fe03dbe\"><g class=\"toytree-Edges\" style=\"fill:none;stroke:rgb(14.9%,14.9%,14.9%);stroke-linecap:round;stroke-opacity:1;stroke-width:2\"><path d=\"M 56.6 87.5 L 105.8 126.4\" id=\"17,16\"></path><path d=\"M 105.8 126.4 L 155.1 164.3\" id=\"16,15\"></path><path d=\"M 155.1 164.3 L 204.4 232.0\" id=\"15,14\"></path><path d=\"M 56.6 87.5 L 105.8 61.2\" id=\"17,13\"></path><path d=\"M 56.6 87.5 L 105.8 74.9\" id=\"17,12\"></path><path d=\"M 105.8 126.4 L 155.1 88.5\" id=\"16,11\"></path><path d=\"M 155.1 164.3 L 204.4 102.2\" id=\"15,10\"></path><path d=\"M 155.1 164.3 L 204.4 115.8\" id=\"15,9\"></path><path d=\"M 155.1 164.3 L 204.4 129.5\" id=\"15,8\"></path><path d=\"M 155.1 164.3 L 204.4 143.2\" id=\"15,7\"></path><path d=\"M 155.1 164.3 L 204.4 156.8\" id=\"15,6\"></path><path d=\"M 155.1 164.3 L 204.4 170.5\" id=\"15,5\"></path><path d=\"M 155.1 164.3 L 204.4 184.2\" id=\"15,4\"></path><path d=\"M 155.1 164.3 L 204.4 197.8\" id=\"15,3\"></path><path d=\"M 155.1 164.3 L 204.4 211.5\" id=\"15,2\"></path><path d=\"M 204.4 232.0 L 253.6 225.1\" id=\"14,1\"></path><path d=\"M 204.4 232.0 L 253.6 238.8\" id=\"14,0\"></path></g><g class=\"toytree-AlignEdges\" style=\"stroke:rgb(66.3%,66.3%,66.3%);stroke-dasharray:2, 4;stroke-linecap:round;stroke-opacity:1.0;stroke-width:2\"><path d=\"M 253.6 238.8 L 253.6 238.8\"></path><path d=\"M 253.6 225.1 L 253.6 225.1\"></path><path d=\"M 253.6 211.5 L 204.4 211.5\"></path><path d=\"M 253.6 197.8 L 204.4 197.8\"></path><path d=\"M 253.6 184.2 L 204.4 184.2\"></path><path d=\"M 253.6 170.5 L 204.4 170.5\"></path><path d=\"M 253.6 156.8 L 204.4 156.8\"></path><path d=\"M 253.6 143.2 L 204.4 143.2\"></path><path d=\"M 253.6 129.5 L 204.4 129.5\"></path><path d=\"M 253.6 115.8 L 204.4 115.8\"></path><path d=\"M 253.6 102.2 L 204.4 102.2\"></path><path d=\"M 253.6 88.5 L 155.1 88.5\"></path><path d=\"M 253.6 74.9 L 105.8 74.9\"></path><path d=\"M 253.6 61.2 L 105.8 61.2\"></path></g><g class=\"toytree-Nodes\" style=\"fill:rgb(10.6%,62%,46.7%);fill-opacity:1.0;stroke:rgb(100%,100%,100%);stroke-opacity:1.0;stroke-width:1.5\"><g id=\"node-0\" transform=\"translate(253.617,238.810)\"><circle r=\"5.0\"></circle></g><g id=\"node-1\" transform=\"translate(253.617,225.147)\"><circle r=\"5.0\"></circle></g><g id=\"node-2\" transform=\"translate(204.355,211.484)\"><circle r=\"5.0\"></circle></g><g id=\"node-3\" transform=\"translate(204.355,197.821)\"><circle r=\"5.0\"></circle></g><g id=\"node-4\" transform=\"translate(204.355,184.158)\"><circle r=\"5.0\"></circle></g><g id=\"node-5\" transform=\"translate(204.355,170.495)\"><circle r=\"5.0\"></circle></g><g id=\"node-6\" transform=\"translate(204.355,156.832)\"><circle r=\"5.0\"></circle></g><g id=\"node-7\" transform=\"translate(204.355,143.168)\"><circle r=\"5.0\"></circle></g><g id=\"node-8\" transform=\"translate(204.355,129.505)\"><circle r=\"5.0\"></circle></g><g id=\"node-9\" transform=\"translate(204.355,115.842)\"><circle r=\"5.0\"></circle></g><g id=\"node-10\" transform=\"translate(204.355,102.179)\"><circle r=\"5.0\"></circle></g><g id=\"node-11\" transform=\"translate(155.093,88.516)\"><circle r=\"5.0\"></circle></g><g id=\"node-12\" transform=\"translate(105.831,74.853)\"><circle r=\"5.0\"></circle></g><g id=\"node-13\" transform=\"translate(105.831,61.190)\"><circle r=\"5.0\"></circle></g><g id=\"node-14\" transform=\"translate(204.355,231.978)\"><circle r=\"5.0\"></circle></g><g id=\"node-15\" transform=\"translate(155.093,164.346)\"><circle r=\"5.0\"></circle></g><g id=\"node-16\" transform=\"translate(105.831,126.431)\"><circle r=\"5.0\"></circle></g><g id=\"node-17\" transform=\"translate(56.568,87.491)\"><circle r=\"5.0\"></circle></g></g><g class=\"toytree-TipLabels\" style=\"fill:rgb(14.9%,14.9%,14.9%);fill-opacity:1.0;font-family:helvetica;font-size:11px;font-weight:normal;stroke:none;white-space:pre\"><g transform=\"translate(253.62,238.81)rotate(0)\"><text x=\"15.00\" y=\"2.81\" style=\"\">P.aerophilum</text></g><g transform=\"translate(253.62,225.15)rotate(0)\"><text x=\"15.00\" y=\"2.81\" style=\"\">A.fulgidus</text></g><g transform=\"translate(253.62,211.48)rotate(0)\"><text x=\"15.00\" y=\"2.81\" style=\"\">T.acidophilum</text></g><g transform=\"translate(253.62,197.82)rotate(0)\"><text x=\"15.00\" y=\"2.81\" style=\"\">F.acidarmanus</text></g><g transform=\"translate(253.62,184.16)rotate(0)\"><text x=\"15.00\" y=\"2.81\" style=\"\">A.pernix</text></g><g transform=\"translate(253.62,170.49)rotate(0)\"><text x=\"15.00\" y=\"2.81\" style=\"\">S.solfataricus</text></g><g transform=\"translate(253.62,156.83)rotate(0)\"><text x=\"15.00\" y=\"2.81\" style=\"\">M.thermoautotrophicum</text></g><g transform=\"translate(253.62,143.17)rotate(0)\"><text x=\"15.00\" y=\"2.81\" style=\"\">M.jannashii</text></g><g transform=\"translate(253.62,129.51)rotate(0)\"><text x=\"15.00\" y=\"2.81\" style=\"\">P.abyssi</text></g><g transform=\"translate(253.62,115.84)rotate(0)\"><text x=\"15.00\" y=\"2.81\" style=\"\">P.horikoshii</text></g><g transform=\"translate(253.62,102.18)rotate(0)\"><text x=\"15.00\" y=\"2.81\" style=\"\">P.furiosus</text></g><g transform=\"translate(253.62,88.52)rotate(0)\"><text x=\"15.00\" y=\"2.81\" style=\"\">M.barkeri</text></g><g transform=\"translate(253.62,74.85)rotate(0)\"><text x=\"15.00\" y=\"2.81\" style=\"\">H.marismortui</text></g><g transform=\"translate(253.62,61.19)rotate(0)\"><text x=\"15.00\" y=\"2.81\" style=\"\">Halobacteriumsp.</text></g></g></g></g></g></svg><div class=\"toyplot-behavior\"><script>(function()\n",
              "{\n",
              "var modules={};\n",
              "})();</script></div></div>"
            ]
          },
          "metadata": {}
        }
      ]
    },
    {
      "cell_type": "code",
      "source": [
        "prims_canvas, axes, mark = prims.draw(height=300, width = 400,tree_style='o',node_sizes=10);"
      ],
      "metadata": {
        "colab": {
          "base_uri": "https://localhost:8080/",
          "height": 321
        },
        "id": "Jo1kZ7u4lFMN",
        "outputId": "7fc7bb45-42b2-4fb1-8db5-433c85c9abe6"
      },
      "execution_count": 12,
      "outputs": [
        {
          "output_type": "display_data",
          "data": {
            "text/html": [
              "<div class=\"toyplot\" id=\"t9986c6f0b3e546f6aebac182cc646023\" style=\"text-align:center\"><svg class=\"toyplot-canvas-Canvas\" xmlns:toyplot=\"http://www.sandia.gov/toyplot\" xmlns:xlink=\"http://www.w3.org/1999/xlink\" xmlns=\"http://www.w3.org/2000/svg\" width=\"400.0px\" height=\"300.0px\" viewBox=\"0 0 400.0 300.0\" preserveAspectRatio=\"xMidYMid meet\" style=\"background-color:transparent;border-color:#292724;border-style:none;border-width:1.0;fill:rgb(16.1%,15.3%,14.1%);fill-opacity:1.0;font-family:Helvetica;font-size:12px;opacity:1.0;stroke:rgb(16.1%,15.3%,14.1%);stroke-opacity:1.0;stroke-width:1.0\" id=\"t12790dae25824986aab1e5fc28c9149b\"><g class=\"toyplot-coordinates-Cartesian\" id=\"t9d31625a07ef4f3fa3b0aa465143a9c9\"><clipPath id=\"t66bd8ed81793405687682279695d3c45\"><rect x=\"30.0\" y=\"30.0\" width=\"340.0\" height=\"240.0\"></rect></clipPath><g clip-path=\"url(#t66bd8ed81793405687682279695d3c45)\"><g class=\"toytree-mark-Toytree\" id=\"t84516e72c10d41b49b9d2b8c34ef0f03\"><g class=\"toytree-Edges\" style=\"fill:none;stroke:rgb(14.9%,14.9%,14.9%);stroke-linecap:round;stroke-opacity:1;stroke-width:2\"><path d=\"M 56.7 87.5 L 153.9 126.4\" id=\"17,16\"></path><path d=\"M 153.9 126.4 L 155.9 164.3\" id=\"16,15\"></path><path d=\"M 155.9 164.3 L 185.0 232.0\" id=\"15,14\"></path><path d=\"M 56.7 87.5 L 106.3 61.2\" id=\"17,13\"></path><path d=\"M 56.7 87.5 L 100.5 74.9\" id=\"17,12\"></path><path d=\"M 153.9 126.4 L 201.6 88.5\" id=\"16,11\"></path><path d=\"M 155.9 164.3 L 199.6 102.2\" id=\"15,10\"></path><path d=\"M 155.9 164.3 L 199.6 115.8\" id=\"15,9\"></path><path d=\"M 155.9 164.3 L 196.7 129.5\" id=\"15,8\"></path><path d=\"M 155.9 164.3 L 200.6 143.2\" id=\"15,7\"></path><path d=\"M 155.9 164.3 L 200.6 156.8\" id=\"15,6\"></path><path d=\"M 155.9 164.3 L 241.4 170.5\" id=\"15,5\"></path><path d=\"M 155.9 164.3 L 206.4 184.2\" id=\"15,4\"></path><path d=\"M 155.9 164.3 L 214.2 197.8\" id=\"15,3\"></path><path d=\"M 155.9 164.3 L 202.5 211.5\" id=\"15,2\"></path><path d=\"M 185.0 232.0 L 245.3 225.1\" id=\"14,1\"></path><path d=\"M 185.0 232.0 L 258.9 238.8\" id=\"14,0\"></path></g><g class=\"toytree-AlignEdges\" style=\"stroke:rgb(66.3%,66.3%,66.3%);stroke-dasharray:2, 4;stroke-linecap:round;stroke-opacity:1.0;stroke-width:2\"><path d=\"M 258.9 238.8 L 258.9 238.8\"></path><path d=\"M 258.9 225.1 L 245.3 225.1\"></path><path d=\"M 258.9 211.5 L 202.5 211.5\"></path><path d=\"M 258.9 197.8 L 214.2 197.8\"></path><path d=\"M 258.9 184.2 L 206.4 184.2\"></path><path d=\"M 258.9 170.5 L 241.4 170.5\"></path><path d=\"M 258.9 156.8 L 200.6 156.8\"></path><path d=\"M 258.9 143.2 L 200.6 143.2\"></path><path d=\"M 258.9 129.5 L 196.7 129.5\"></path><path d=\"M 258.9 115.8 L 199.6 115.8\"></path><path d=\"M 258.9 102.2 L 199.6 102.2\"></path><path d=\"M 258.9 88.5 L 201.6 88.5\"></path><path d=\"M 258.9 74.9 L 100.5 74.9\"></path><path d=\"M 258.9 61.2 L 106.3 61.2\"></path></g><g class=\"toytree-Nodes\" style=\"fill:rgb(10.6%,62%,46.7%);fill-opacity:1.0;stroke:rgb(100%,100%,100%);stroke-opacity:1.0;stroke-width:1.5\"><g id=\"node-0\" transform=\"translate(258.895,238.810)\"><circle r=\"5.0\"></circle></g><g id=\"node-1\" transform=\"translate(245.288,225.147)\"><circle r=\"5.0\"></circle></g><g id=\"node-2\" transform=\"translate(202.524,211.484)\"><circle r=\"5.0\"></circle></g><g id=\"node-3\" transform=\"translate(214.187,197.821)\"><circle r=\"5.0\"></circle></g><g id=\"node-4\" transform=\"translate(206.412,184.158)\"><circle r=\"5.0\"></circle></g><g id=\"node-5\" transform=\"translate(241.400,170.495)\"><circle r=\"5.0\"></circle></g><g id=\"node-6\" transform=\"translate(200.580,156.832)\"><circle r=\"5.0\"></circle></g><g id=\"node-7\" transform=\"translate(200.580,143.168)\"><circle r=\"5.0\"></circle></g><g id=\"node-8\" transform=\"translate(196.693,129.505)\"><circle r=\"5.0\"></circle></g><g id=\"node-9\" transform=\"translate(199.608,115.842)\"><circle r=\"5.0\"></circle></g><g id=\"node-10\" transform=\"translate(199.608,102.179)\"><circle r=\"5.0\"></circle></g><g id=\"node-11\" transform=\"translate(201.552,88.516)\"><circle r=\"5.0\"></circle></g><g id=\"node-12\" transform=\"translate(100.474,74.853)\"><circle r=\"5.0\"></circle></g><g id=\"node-13\" transform=\"translate(106.306,61.190)\"><circle r=\"5.0\"></circle></g><g id=\"node-14\" transform=\"translate(185.030,231.978)\"><circle r=\"5.0\"></circle></g><g id=\"node-15\" transform=\"translate(155.873,164.346)\"><circle r=\"5.0\"></circle></g><g id=\"node-16\" transform=\"translate(153.929,126.431)\"><circle r=\"5.0\"></circle></g><g id=\"node-17\" transform=\"translate(56.739,87.491)\"><circle r=\"5.0\"></circle></g></g><g class=\"toytree-TipLabels\" style=\"fill:rgb(14.9%,14.9%,14.9%);fill-opacity:1.0;font-family:helvetica;font-size:11px;font-weight:normal;stroke:none;white-space:pre\"><g transform=\"translate(258.89,238.81)rotate(0)\"><text x=\"15.00\" y=\"2.81\" style=\"\">A.pernix</text></g><g transform=\"translate(258.89,225.15)rotate(0)\"><text x=\"15.00\" y=\"2.81\" style=\"\">P.furiosus</text></g><g transform=\"translate(258.89,211.48)rotate(0)\"><text x=\"15.00\" y=\"2.81\" style=\"\">H.marismortui</text></g><g transform=\"translate(258.89,197.82)rotate(0)\"><text x=\"15.00\" y=\"2.81\" style=\"\">Halobacteriumsp.</text></g><g transform=\"translate(258.89,184.16)rotate(0)\"><text x=\"15.00\" y=\"2.81\" style=\"\">M.barkeri</text></g><g transform=\"translate(258.89,170.49)rotate(0)\"><text x=\"15.00\" y=\"2.81\" style=\"\">S.solfataricus</text></g><g transform=\"translate(258.89,156.83)rotate(0)\"><text x=\"15.00\" y=\"2.81\" style=\"\">M.thermoautotrophicum</text></g><g transform=\"translate(258.89,143.17)rotate(0)\"><text x=\"15.00\" y=\"2.81\" style=\"\">M.jannashii</text></g><g transform=\"translate(258.89,129.51)rotate(0)\"><text x=\"15.00\" y=\"2.81\" style=\"\">P.abyssi</text></g><g transform=\"translate(258.89,115.84)rotate(0)\"><text x=\"15.00\" y=\"2.81\" style=\"\">P.horikoshii</text></g><g transform=\"translate(258.89,102.18)rotate(0)\"><text x=\"15.00\" y=\"2.81\" style=\"\">A.fulgidus</text></g><g transform=\"translate(258.89,88.52)rotate(0)\"><text x=\"15.00\" y=\"2.81\" style=\"\">P.aerophilum</text></g><g transform=\"translate(258.89,74.85)rotate(0)\"><text x=\"15.00\" y=\"2.81\" style=\"\">T.acidophilum</text></g><g transform=\"translate(258.89,61.19)rotate(0)\"><text x=\"15.00\" y=\"2.81\" style=\"\">F.acidarmanus</text></g></g></g></g></g></svg><div class=\"toyplot-behavior\"><script>(function()\n",
              "{\n",
              "var modules={};\n",
              "})();</script></div></div>"
            ]
          },
          "metadata": {}
        }
      ]
    },
    {
      "cell_type": "code",
      "source": [
        "import toyplot.pdf\n",
        "toyplot.pdf.render(gene_canvas, \"gene_canvas.pdf\")\n",
        "toyplot.pdf.render(majority_canvas, \"majority_canvas.pdf\")\n",
        "toyplot.pdf.render(prims_canvas, \"prims_canvas.pdf\")"
      ],
      "metadata": {
        "id": "B404XCG4GjcQ"
      },
      "execution_count": 13,
      "outputs": []
    }
  ]
}