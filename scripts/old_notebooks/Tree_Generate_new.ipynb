{
  "nbformat": 4,
  "nbformat_minor": 0,
  "metadata": {
    "colab": {
      "provenance": []
    },
    "kernelspec": {
      "name": "python3",
      "display_name": "Python 3"
    },
    "language_info": {
      "name": "python"
    }
  },
  "cells": [
    {
      "cell_type": "code",
      "execution_count": 4,
      "metadata": {
        "id": "khd0xyE0H4ng"
      },
      "outputs": [],
      "source": [
        "import random\n",
        "# Set a seed for reproducibility\n",
        "random.seed(42)\n",
        "\n",
        "class TreeNode:\n",
        "    def __init__(self, name=None, weight=None):\n",
        "        self.name = name\n",
        "        self.weight = weight\n",
        "        self.children = []\n",
        "\n",
        "def parse_newick(newick_str):\n",
        "    stack = []\n",
        "    current_node = TreeNode()\n",
        "    root = current_node\n",
        "    name_buffer = []\n",
        "    weight_buffer = []\n",
        "    internal_node_counter = 1\n",
        "    reading_weight = False\n",
        "    for char in newick_str:\n",
        "        if char == '(':\n",
        "            new_node = TreeNode(name=f\"Internal_{len(stack) + 1}_{internal_node_counter}\")\n",
        "            internal_node_counter += 1\n",
        "            current_node.children.append(new_node)\n",
        "            stack.append(current_node)\n",
        "            current_node = new_node\n",
        "        elif char == ',':\n",
        "            if name_buffer:\n",
        "                current_node.name = ''.join(name_buffer).strip()\n",
        "                name_buffer = []\n",
        "            if weight_buffer:\n",
        "                current_node.weight = float(''.join(weight_buffer).strip())\n",
        "                weight_buffer = []\n",
        "            reading_weight = False\n",
        "            new_node = TreeNode(name=f\"Internal_{len(stack) + 1}_{internal_node_counter}\")\n",
        "            internal_node_counter += 1\n",
        "            stack[-1].children.append(new_node)\n",
        "            current_node = new_node\n",
        "        elif char == ')':\n",
        "            if name_buffer:\n",
        "                current_node.name = ''.join(name_buffer).strip()\n",
        "                name_buffer = []\n",
        "            if weight_buffer:\n",
        "                current_node.weight = float(''.join(weight_buffer).strip())\n",
        "                weight_buffer = []\n",
        "            reading_weight = False\n",
        "            current_node = stack.pop()\n",
        "        elif char == ':':\n",
        "            reading_weight = True\n",
        "        elif char != ';' and not reading_weight:\n",
        "            name_buffer.append(char)\n",
        "        elif reading_weight:\n",
        "            weight_buffer.append(char)\n",
        "    return root\n",
        "\n",
        "def delete_internal_nodes_randomly(node, parent=None, root=None):\n",
        "    if node is None or not node.children:\n",
        "        return\n",
        "\n",
        "    for child in list(node.children):\n",
        "        delete_internal_nodes_randomly(child, node)\n",
        "\n",
        "    if node != root and random.random() < 0.2:\n",
        "        if parent:  # Check if parent is not None\n",
        "            for child in node.children:\n",
        "                parent.children.append(child)\n",
        "            parent.children.remove(node)\n",
        "\n",
        "# def insert_internal_node(node, parent=None, root=None):\n",
        "#     if node is None or not node.children or len(node.children) <= 2:\n",
        "#         return\n",
        "\n",
        "#     if random.random() < 0.2:\n",
        "#         new_node = TreeNode(name=f\"Internal_{random.randint(1, 10)}\")\n",
        "#         # Move one child to the new internal node\n",
        "#         new_node.children.append(node.children.pop())\n",
        "#         new_node.children.append(node.children.pop())\n",
        "#         node.children.append(new_node)\n",
        "\n",
        "#     for child in node.children:\n",
        "#         insert_internal_node(child, node)\n",
        "\n",
        "def insert_internal_node(node, parent=None, root=None):\n",
        "    if node is None or not node.children or len(node.children) <= 2:\n",
        "        return\n",
        "\n",
        "    if random.random() < 0.4:\n",
        "        new_node = TreeNode(name=f\"Internal_{random.randint(1, 10)}\")\n",
        "        # Randomly select two children to move to the new internal node\n",
        "        random_children_indices = random.sample(range(len(node.children)), 2)\n",
        "        for index in sorted(random_children_indices, reverse=True):\n",
        "            new_node.children.append(node.children.pop(index))\n",
        "        node.children.append(new_node)\n",
        "\n",
        "    for child in node.children:\n",
        "        insert_internal_node(child, node)\n",
        "\n",
        "\n",
        "# Modify the save_all_trees_to_file function to call insert_internal_node after deleting internal nodes\n",
        "def save_all_trees_to_file(file_name, newick_str, num_iterations):\n",
        "    with open(file_name, 'w') as file:\n",
        "        for i in range(num_iterations):\n",
        "            root = parse_newick(newick_str)\n",
        "            delete_internal_nodes_randomly(root)\n",
        "            insert_internal_node(root)\n",
        "\n",
        "            newick_tree = tree_to_newick(root) + ';'\n",
        "            file.write(newick_tree + \"\\n\")\n",
        "\n",
        "\n",
        "\n",
        "def tree_to_newick(node):\n",
        "    \"\"\"Converts a TreeNode to a Newick format string without internal node names.\"\"\"\n",
        "    if not node.children:  # Leaf node\n",
        "        return f\"{node.name}:{node.weight}\" if node.weight is not None else node.name\n",
        "\n",
        "    children_str = ','.join(tree_to_newick(child) for child in node.children)\n",
        "    if node.weight is not None:\n",
        "        node_str = f\"({children_str}):{node.weight}\"\n",
        "    else:\n",
        "        node_str = f\"({children_str})\"\n",
        "\n",
        "    return node_str\n",
        "\n",
        "\n",
        "def save_all_trees_to_file(file_name, newick_str, num_iterations):\n",
        "    with open(file_name, 'w') as file:\n",
        "        for i in range(num_iterations):\n",
        "            root = parse_newick(newick_str)\n",
        "            delete_internal_nodes_randomly(root)\n",
        "\n",
        "            insert_internal_node(root)\n",
        "\n",
        "            newick_tree = tree_to_newick(root) + ';'\n",
        "            # file.write(f\"Iteration {i + 1} Newick Format:\\n\")\n",
        "            file.write(newick_tree + \"\\n\")\n",
        "\n",
        "\n",
        "#ref_tree = '((a:0.1,b:0.2)Internal_1_1:0.3,(c:0.4,d:0.5)Internal_1_2:0.6,e:0.7);'\n",
        "ref_tree = '((a:0.1,b:0.2)Internal_1_1:0.3,(g:.1,h:.2):.3,(c:0.4,d:0.5)Internal_1_2:0.6,e:0.7);'\n",
        "# File name for saving the trees\n",
        "all_trees_file_name = '3.txt'\n",
        "\n",
        "# Save all trees to a single file in Newick format\n",
        "k = 10\n",
        "save_all_trees_to_file(all_trees_file_name, ref_tree, k)\n"
      ]
    },
    {
      "cell_type": "code",
      "source": [
        "pip install toytree"
      ],
      "metadata": {
        "id": "Qz-VZsocEobw"
      },
      "execution_count": null,
      "outputs": []
    },
    {
      "cell_type": "code",
      "source": [
        "import toytree\n",
        "import numpy as np\n",
        "ref_tree = '((a:0.1,b:0.2):0.3,(c:0.4,d:0.5):0.6,e:0.7);'\n",
        "\n",
        "generated = '(e:0.7,c:0.4,(d:0.5,(a:0.1,b:0.2):0.3));'\n",
        "\n",
        "ref2 = '((a:0.1,b:0.2)Internal_1_1:0.3,(g:0.1,h:0.2):0.3,(c:0.4,d:0.5)Internal_1_2:0.6,e:0.7);'\n",
        "\n",
        "\n",
        "gen2 = \"((c:0.4,d:0.5):0.6,e:0.7,a:0.1,(b:0.2,(g:0.1,h:0.2):0.3));\"\n",
        "\n",
        "ref_tree = toytree.tree(ref2, tree_format=1)\n",
        "generated = toytree.tree(gen2, tree_format=1)"
      ],
      "metadata": {
        "id": "dceDwb2PoxM3"
      },
      "execution_count": 9,
      "outputs": []
    },
    {
      "cell_type": "code",
      "source": [
        "ref_tree, axes, mark = ref_tree.draw(height=300, width = 400,tree_style='o',node_sizes=10);"
      ],
      "metadata": {
        "colab": {
          "base_uri": "https://localhost:8080/",
          "height": 321
        },
        "id": "oOaUHD28oxJ3",
        "outputId": "02ad7277-0bb7-47bf-f348-9ca5b071c815"
      },
      "execution_count": 10,
      "outputs": [
        {
          "output_type": "display_data",
          "data": {
            "text/html": [
              "<div class=\"toyplot\" id=\"tf18f58e475414ee0bdb4c3f8b391122b\" style=\"text-align:center\"><svg class=\"toyplot-canvas-Canvas\" xmlns:toyplot=\"http://www.sandia.gov/toyplot\" xmlns:xlink=\"http://www.w3.org/1999/xlink\" xmlns=\"http://www.w3.org/2000/svg\" width=\"400.0px\" height=\"300.0px\" viewBox=\"0 0 400.0 300.0\" preserveAspectRatio=\"xMidYMid meet\" style=\"background-color:transparent;border-color:#292724;border-style:none;border-width:1.0;fill:rgb(16.1%,15.3%,14.1%);fill-opacity:1.0;font-family:Helvetica;font-size:12px;opacity:1.0;stroke:rgb(16.1%,15.3%,14.1%);stroke-opacity:1.0;stroke-width:1.0\" id=\"t32d0e5da25874c5496288db7be0339be\"><g class=\"toyplot-coordinates-Cartesian\" id=\"t7c6ff3cbf0164841aeef541aafca6064\"><clipPath id=\"t115598b7052d4ea0b672bb1f3e5de2e6\"><rect x=\"30.0\" y=\"30.0\" width=\"340.0\" height=\"240.0\"></rect></clipPath><g clip-path=\"url(#t115598b7052d4ea0b672bb1f3e5de2e6)\"><g class=\"toytree-mark-Toytree\" id=\"t256bfea9e73741cf91d7465100356a77\"><g class=\"toytree-Edges\" style=\"fill:none;stroke:rgb(14.9%,14.9%,14.9%);stroke-linecap:round;stroke-opacity:1;stroke-width:2\"><path d=\"M 59.3 138.9 L 135.6 105.6\" id=\"10,9\"></path><path d=\"M 59.3 138.9 L 135.6 164.8\" id=\"10,8\"></path><path d=\"M 59.3 138.9 L 211.9 224.0\" id=\"10,7\"></path><path d=\"M 59.3 138.9 L 237.4 61.2\" id=\"10,6\"></path><path d=\"M 135.6 105.6 L 161.1 90.8\" id=\"9,5\"></path><path d=\"M 135.6 105.6 L 186.5 120.4\" id=\"9,4\"></path><path d=\"M 135.6 164.8 L 161.1 150.0\" id=\"8,3\"></path><path d=\"M 135.6 164.8 L 186.5 179.6\" id=\"8,2\"></path><path d=\"M 211.9 224.0 L 313.7 209.2\" id=\"7,1\"></path><path d=\"M 211.9 224.0 L 339.1 238.8\" id=\"7,0\"></path></g><g class=\"toytree-AlignEdges\" style=\"stroke:rgb(66.3%,66.3%,66.3%);stroke-dasharray:2, 4;stroke-linecap:round;stroke-opacity:1.0;stroke-width:2\"><path d=\"M 339.1 238.8 L 339.1 238.8\"></path><path d=\"M 339.1 209.2 L 313.7 209.2\"></path><path d=\"M 339.1 179.6 L 186.5 179.6\"></path><path d=\"M 339.1 150.0 L 161.1 150.0\"></path><path d=\"M 339.1 120.4 L 186.5 120.4\"></path><path d=\"M 339.1 90.8 L 161.1 90.8\"></path><path d=\"M 339.1 61.2 L 237.4 61.2\"></path></g><g class=\"toytree-Nodes\" style=\"fill:rgb(10.6%,62%,46.7%);fill-opacity:1.0;stroke:rgb(100%,100%,100%);stroke-opacity:1.0;stroke-width:1.5\"><g id=\"node-0\" transform=\"translate(339.111,238.810)\"><circle r=\"5.0\"></circle></g><g id=\"node-1\" transform=\"translate(313.676,209.207)\"><circle r=\"5.0\"></circle></g><g id=\"node-2\" transform=\"translate(186.501,179.603)\"><circle r=\"5.0\"></circle></g><g id=\"node-3\" transform=\"translate(161.066,150.000)\"><circle r=\"5.0\"></circle></g><g id=\"node-4\" transform=\"translate(186.501,120.397)\"><circle r=\"5.0\"></circle></g><g id=\"node-5\" transform=\"translate(161.066,90.793)\"><circle r=\"5.0\"></circle></g><g id=\"node-6\" transform=\"translate(237.371,61.190)\"><circle r=\"5.0\"></circle></g><g id=\"node-7\" transform=\"translate(211.936,224.008)\"><circle r=\"5.0\"></circle></g><g id=\"node-8\" transform=\"translate(135.631,164.802)\"><circle r=\"5.0\"></circle></g><g id=\"node-9\" transform=\"translate(135.631,105.595)\"><circle r=\"5.0\"></circle></g><g id=\"node-10\" transform=\"translate(59.326,138.899)\"><circle r=\"5.0\"></circle></g></g><g class=\"toytree-TipLabels\" style=\"fill:rgb(14.9%,14.9%,14.9%);fill-opacity:1.0;font-family:helvetica;font-size:11px;font-weight:normal;stroke:none;white-space:pre\"><g transform=\"translate(339.11,238.81)rotate(0)\"><text x=\"15.00\" y=\"2.81\" style=\"\">d</text></g><g transform=\"translate(339.11,209.21)rotate(0)\"><text x=\"15.00\" y=\"2.81\" style=\"\">c</text></g><g transform=\"translate(339.11,179.60)rotate(0)\"><text x=\"15.00\" y=\"2.81\" style=\"\">h</text></g><g transform=\"translate(339.11,150.00)rotate(0)\"><text x=\"15.00\" y=\"2.81\" style=\"\">g</text></g><g transform=\"translate(339.11,120.40)rotate(0)\"><text x=\"15.00\" y=\"2.81\" style=\"\">b</text></g><g transform=\"translate(339.11,90.79)rotate(0)\"><text x=\"15.00\" y=\"2.81\" style=\"\">a</text></g><g transform=\"translate(339.11,61.19)rotate(0)\"><text x=\"15.00\" y=\"2.81\" style=\"\">e</text></g></g></g></g></g></svg><div class=\"toyplot-behavior\"><script>(function()\n",
              "{\n",
              "var modules={};\n",
              "})();</script></div></div>"
            ]
          },
          "metadata": {}
        }
      ]
    },
    {
      "cell_type": "code",
      "source": [
        "generated, axes, mark = generated.draw(height=300, width = 400,tree_style='o',node_sizes=10);"
      ],
      "metadata": {
        "colab": {
          "base_uri": "https://localhost:8080/",
          "height": 321
        },
        "id": "p53va7sJoxHI",
        "outputId": "6019f07a-b31c-4dfe-dd99-f81d2ba63e87"
      },
      "execution_count": 11,
      "outputs": [
        {
          "output_type": "display_data",
          "data": {
            "text/html": [
              "<div class=\"toyplot\" id=\"t7d95538da7c641e8bf01bae62b878fba\" style=\"text-align:center\"><svg class=\"toyplot-canvas-Canvas\" xmlns:toyplot=\"http://www.sandia.gov/toyplot\" xmlns:xlink=\"http://www.w3.org/1999/xlink\" xmlns=\"http://www.w3.org/2000/svg\" width=\"400.0px\" height=\"300.0px\" viewBox=\"0 0 400.0 300.0\" preserveAspectRatio=\"xMidYMid meet\" style=\"background-color:transparent;border-color:#292724;border-style:none;border-width:1.0;fill:rgb(16.1%,15.3%,14.1%);fill-opacity:1.0;font-family:Helvetica;font-size:12px;opacity:1.0;stroke:rgb(16.1%,15.3%,14.1%);stroke-opacity:1.0;stroke-width:1.0\" id=\"td8be3e6dc0fb4ed8a3c9aa03c64abf06\"><g class=\"toyplot-coordinates-Cartesian\" id=\"t5ab5f8e3d9804359aa17e8e544b72193\"><clipPath id=\"t860eaf14a4df43509c80869038a8732e\"><rect x=\"30.0\" y=\"30.0\" width=\"340.0\" height=\"240.0\"></rect></clipPath><g clip-path=\"url(#t860eaf14a4df43509c80869038a8732e)\"><g class=\"toytree-mark-Toytree\" id=\"t05c43ef93d8b4fa1adfc85059be52e37\"><g class=\"toytree-Edges\" style=\"fill:none;stroke:rgb(14.9%,14.9%,14.9%);stroke-linecap:round;stroke-opacity:1;stroke-width:2\"><path d=\"M 59.3 122.2 L 171.2 135.2\" id=\"10,9\"></path><path d=\"M 59.3 122.2 L 245.8 201.8\" id=\"10,8\"></path><path d=\"M 245.8 201.8 L 301.8 224.0\" id=\"8,7\"></path><path d=\"M 59.3 122.2 L 189.9 61.2\" id=\"10,6\"></path><path d=\"M 59.3 122.2 L 78.0 90.8\" id=\"10,5\"></path><path d=\"M 171.2 135.2 L 245.8 120.4\" id=\"9,4\"></path><path d=\"M 171.2 135.2 L 264.5 150.0\" id=\"9,3\"></path><path d=\"M 245.8 201.8 L 283.2 179.6\" id=\"8,2\"></path><path d=\"M 301.8 224.0 L 320.5 209.2\" id=\"7,1\"></path><path d=\"M 301.8 224.0 L 339.1 238.8\" id=\"7,0\"></path></g><g class=\"toytree-AlignEdges\" style=\"stroke:rgb(66.3%,66.3%,66.3%);stroke-dasharray:2, 4;stroke-linecap:round;stroke-opacity:1.0;stroke-width:2\"><path d=\"M 339.1 238.8 L 339.1 238.8\"></path><path d=\"M 339.1 209.2 L 320.5 209.2\"></path><path d=\"M 339.1 179.6 L 283.2 179.6\"></path><path d=\"M 339.1 150.0 L 264.5 150.0\"></path><path d=\"M 339.1 120.4 L 245.8 120.4\"></path><path d=\"M 339.1 90.8 L 78.0 90.8\"></path><path d=\"M 339.1 61.2 L 189.9 61.2\"></path></g><g class=\"toytree-Nodes\" style=\"fill:rgb(10.6%,62%,46.7%);fill-opacity:1.0;stroke:rgb(100%,100%,100%);stroke-opacity:1.0;stroke-width:1.5\"><g id=\"node-0\" transform=\"translate(339.111,238.810)\"><circle r=\"5.0\"></circle></g><g id=\"node-1\" transform=\"translate(320.458,209.207)\"><circle r=\"5.0\"></circle></g><g id=\"node-2\" transform=\"translate(283.154,179.603)\"><circle r=\"5.0\"></circle></g><g id=\"node-3\" transform=\"translate(264.502,150.000)\"><circle r=\"5.0\"></circle></g><g id=\"node-4\" transform=\"translate(245.849,120.397)\"><circle r=\"5.0\"></circle></g><g id=\"node-5\" transform=\"translate(77.978,90.793)\"><circle r=\"5.0\"></circle></g><g id=\"node-6\" transform=\"translate(189.892,61.190)\"><circle r=\"5.0\"></circle></g><g id=\"node-7\" transform=\"translate(301.806,224.008)\"><circle r=\"5.0\"></circle></g><g id=\"node-8\" transform=\"translate(245.849,201.806)\"><circle r=\"5.0\"></circle></g><g id=\"node-9\" transform=\"translate(171.240,135.198)\"><circle r=\"5.0\"></circle></g><g id=\"node-10\" transform=\"translate(59.326,122.247)\"><circle r=\"5.0\"></circle></g></g><g class=\"toytree-TipLabels\" style=\"fill:rgb(14.9%,14.9%,14.9%);fill-opacity:1.0;font-family:helvetica;font-size:11px;font-weight:normal;stroke:none;white-space:pre\"><g transform=\"translate(339.11,238.81)rotate(0)\"><text x=\"15.00\" y=\"2.81\" style=\"\">h</text></g><g transform=\"translate(339.11,209.21)rotate(0)\"><text x=\"15.00\" y=\"2.81\" style=\"\">g</text></g><g transform=\"translate(339.11,179.60)rotate(0)\"><text x=\"15.00\" y=\"2.81\" style=\"\">b</text></g><g transform=\"translate(339.11,150.00)rotate(0)\"><text x=\"15.00\" y=\"2.81\" style=\"\">d</text></g><g transform=\"translate(339.11,120.40)rotate(0)\"><text x=\"15.00\" y=\"2.81\" style=\"\">c</text></g><g transform=\"translate(339.11,90.79)rotate(0)\"><text x=\"15.00\" y=\"2.81\" style=\"\">a</text></g><g transform=\"translate(339.11,61.19)rotate(0)\"><text x=\"15.00\" y=\"2.81\" style=\"\">e</text></g></g></g></g></g></svg><div class=\"toyplot-behavior\"><script>(function()\n",
              "{\n",
              "var modules={};\n",
              "})();</script></div></div>"
            ]
          },
          "metadata": {}
        }
      ]
    },
    {
      "cell_type": "code",
      "source": [],
      "metadata": {
        "id": "xjdp97ieoxBf"
      },
      "execution_count": null,
      "outputs": []
    },
    {
      "cell_type": "code",
      "source": [],
      "metadata": {
        "id": "tYZPKymfow8L"
      },
      "execution_count": null,
      "outputs": []
    }
  ]
}