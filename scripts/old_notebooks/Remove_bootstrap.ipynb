{
  "nbformat": 4,
  "nbformat_minor": 0,
  "metadata": {
    "colab": {
      "provenance": []
    },
    "kernelspec": {
      "name": "python3",
      "display_name": "Python 3"
    },
    "language_info": {
      "name": "python"
    }
  },
  "cells": [
    {
      "cell_type": "code",
      "execution_count": null,
      "metadata": {
        "colab": {
          "base_uri": "https://localhost:8080/"
        },
        "id": "nMEyRYOhrN4H",
        "outputId": "766d5507-d174-41b7-e43d-7e40e7a8c8c2"
      },
      "outputs": [
        {
          "output_type": "stream",
          "name": "stdout",
          "text": [
            "This is a test string with  and  to be removed.\n"
          ]
        }
      ],
      "source": [
        "import re\n",
        "\n",
        "def remove_bracketed_digits(original_string):\n",
        "    return re.sub(r'\\[\\d+\\]', '', original_string)\n",
        "\n",
        "# Example usage\n",
        "input_string = \"This is a test string with [123] and [456] to be removed.\"\n",
        "result = remove_bracketed_digits(input_string)\n",
        "print(result)\n"
      ]
    },
    {
      "cell_type": "code",
      "source": [
        "import re\n",
        "\n",
        "def remove_bracketed_digits(original_string):\n",
        "    return re.sub(r'\\[\\d+\\]', '', original_string)\n",
        "\n",
        "# Example usage\n",
        "input_string = \"(Guangxi_Pangolin_P2V:0.000001,(((Guangdong_Pangolin_P2S_2019:0.000001,Guangdong_Pangolin_1_2019:0.000001):0.004421[70],(RaTG13:0.000001,(Hu_Australia_VIC231_2020:0.000001,Hu_Wuhan_2020:0.000001,Hu_USA_UT_00346_2020:0.000001,Hu_Italy_TE4836_2020:0.000001):0.004431[59],(Bat_CoVZXC21:0.000001,Bat_CoVZC45:0.000001):0.008900[91]):0.000001[54]):0.013564[85],((BM48_31_BGR_2008:0.054678,BtKY72:0.029286):0.033400[70],(SARS:0.000001,Tor2:0.000001,SARS-CoV_BJ182-4:0.000001):0.008768[83],Rs3367:0.004400,(((Bovine_CoV:0.000001,Bovine_OH440:0.000001,Human_ent_4408:0.000001,Bovine_AH187:0.000001):0.016426[84],Rabbit_HKU14:0.015816,Porcine_v:0.042378,Equine_NC99:0.040086,Human_OC43:0.000001,HKU1:0.470188,(Murine_A59:0.004327,(Murine_RA59/R13:0.000001,Murine_virus:0.000001):0.000001[60]):0.048383[60],Murine_JHM:0.025102,Rat_Parker:0.023927,Feline_per:1.403610):0.667926[86],(Bat_HKU5-1:0.076790,MERS-CoV_S:0.233039,Bat_HKU4-1:0.134680):0.561739[76]):0.557886[76],(BtCoV_273_2005:0.000001,Rf1:0.000001):0.000001[97],BtCoV_279_2005:0.013435,(HKU3-12:0.000001,HKU3-6:0.000001):0.005011[94]):0.006426[79]):0.008915[97],Guangxi_Pangolin_P1E:0.000001,Guangxi_Pangolin_P4L:0.000001,Guangxi_Pangolin_P5L:0.000001,Guangxi_Pangolin_P5E:0.000001);\"\n",
        "\n",
        "result = remove_bracketed_digits(input_string)\n",
        "print(result)\n"
      ],
      "metadata": {
        "id": "1RidDwndrcg9"
      },
      "execution_count": null,
      "outputs": []
    },
    {
      "cell_type": "code",
      "source": [
        "import re\n",
        "\n",
        "def remove_bracketed_digits_from_file(input_file_path, output_file_path=None):\n",
        "    with open(input_file_path, 'r') as file:\n",
        "        content = file.read()\n",
        "\n",
        "    modified_content = re.sub(r'\\[\\d+\\]', '', content)\n",
        "\n",
        "    if output_file_path:\n",
        "        with open(output_file_path, 'w') as output_file:\n",
        "            output_file.write(modified_content)\n",
        "        return f\"Processed content written to {output_file_path}\"\n",
        "    else:\n",
        "        return modified_content\n",
        "\n",
        "# Example usage\n",
        "input_file = '/content/11_Covid-19_gene_trees_collapsed_43_taxa.txt' # Replace with your input file path\n",
        "output_file = 'result.txt' # Replace with your desired output file path, or use None to get the content as a return value\n",
        "\n",
        "result = remove_bracketed_digits_from_file(input_file, output_file)\n",
        "print(result)\n"
      ],
      "metadata": {
        "colab": {
          "base_uri": "https://localhost:8080/"
        },
        "id": "nApjap4hrvZZ",
        "outputId": "0a8ed6e5-580b-45c3-f847-696c2f91373e"
      },
      "execution_count": null,
      "outputs": [
        {
          "output_type": "stream",
          "name": "stdout",
          "text": [
            "Processed content written to result.txt\n"
          ]
        }
      ]
    }
  ]
}